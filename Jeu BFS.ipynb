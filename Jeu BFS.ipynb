{
 "cells": [
  {
   "cell_type": "markdown",
   "id": "55e38f4a",
   "metadata": {},
   "source": [
    "# Projet Intro IA réalisé par: Yessin Msaddak - 1 idsd 1\n",
    "### Jeu en utilisant l'algorithme BFS"
   ]
  },
  {
   "cell_type": "code",
   "execution_count": 1,
   "id": "293063e7",
   "metadata": {},
   "outputs": [
    {
     "name": "stdout",
     "output_type": "stream",
     "text": [
      "pygame 2.3.0 (SDL 2.24.2, Python 3.9.12)\n",
      "Hello from the pygame community. https://www.pygame.org/contribute.html\n"
     ]
    }
   ],
   "source": [
    "import pygame as pg\n",
    "from random import random\n",
    "from collections import deque"
   ]
  },
  {
   "cell_type": "markdown",
   "id": "8fde577f",
   "metadata": {},
   "source": [
    "- Définir les coordonnées du rectangle d'apres deux points x et y"
   ]
  },
  {
   "cell_type": "code",
   "execution_count": 2,
   "id": "70d83b5c",
   "metadata": {},
   "outputs": [],
   "source": [
    "def get_rect(x, y):\n",
    "    return x * TILE + 1,y * TILE + 1, TILE - 2, TILE - 2"
   ]
  },
  {
   "cell_type": "markdown",
   "id": "abbda9a9",
   "metadata": {},
   "source": [
    "- Tester si x et y appartiennent au terrain et ne sont pas des obstacles"
   ]
  },
  {
   "cell_type": "code",
   "execution_count": 3,
   "id": "74ed52e2",
   "metadata": {},
   "outputs": [],
   "source": [
    "def check_next_node(x, y):\n",
    "    if (0 <= x < cols and 0 <= y < rows and not grid[y][x]):\n",
    "        return True\n",
    "    else:\n",
    "        return False"
   ]
  },
  {
   "cell_type": "markdown",
   "id": "38bf7e69",
   "metadata": {},
   "source": [
    "- Donner les noeuds voisins sous forme de liste des tuples contenant les coordonnées"
   ]
  },
  {
   "cell_type": "code",
   "execution_count": 4,
   "id": "93de177d",
   "metadata": {},
   "outputs": [],
   "source": [
    "def get_next_nodes(x, y):\n",
    "    L = list()\n",
    "    ways = [-1, 0], [0, -1], [1, 0], [0, 1], [-1, -1], [1, -1], [1, 1], [-1, 1]\n",
    "    for dx, dy in ways:\n",
    "        if check_next_node(x + dx, y + dy):\n",
    "            L.append((x + dx, y + dy))\n",
    "    return L"
   ]
  },
  {
   "cell_type": "markdown",
   "id": "5e8e17cf",
   "metadata": {},
   "source": [
    "- Donner les coordonnées du rectangle qui a été clické"
   ]
  },
  {
   "cell_type": "code",
   "execution_count": 5,
   "id": "3c7614aa",
   "metadata": {},
   "outputs": [],
   "source": [
    "def get_click_mouse_pos():\n",
    "    x, y = pg.mouse.get_pos()\n",
    "    grid_x, grid_y = x // TILE, y // TILE\n",
    "    pg.draw.rect(sc, pg.Color('red'), get_rect(grid_x, grid_y))\n",
    "    click = pg.mouse.get_pressed()\n",
    "    if click[0]:\n",
    "        return (grid_x, grid_y)\n",
    "    else:\n",
    "        return False"
   ]
  },
  {
   "cell_type": "markdown",
   "id": "9b0c3f5b",
   "metadata": {},
   "source": [
    "- Algorithme de parcours en largeur"
   ]
  },
  {
   "cell_type": "code",
   "execution_count": 6,
   "id": "99574434",
   "metadata": {},
   "outputs": [],
   "source": [
    "def bfs(start, goal, graph):\n",
    "    queue = deque([start])\n",
    "    visited = {start: None}\n",
    "\n",
    "    while queue:\n",
    "        cur_node = queue.popleft()\n",
    "        if cur_node == goal:\n",
    "            break\n",
    "\n",
    "        next_nodes = graph[cur_node]\n",
    "        for next_node in next_nodes:\n",
    "            if next_node not in visited:\n",
    "                queue.append(next_node)\n",
    "                visited[next_node] = cur_node\n",
    "    return queue, visited"
   ]
  },
  {
   "cell_type": "markdown",
   "id": "7c2822ae",
   "metadata": {},
   "source": [
    "- Definition des dimension du grille"
   ]
  },
  {
   "cell_type": "code",
   "execution_count": 7,
   "id": "d280e0e7",
   "metadata": {},
   "outputs": [],
   "source": [
    "cols, rows = 35, 20\n",
    "TILE = 50"
   ]
  },
  {
   "cell_type": "markdown",
   "id": "f17c758b",
   "metadata": {},
   "source": [
    "- Initialisation du jeu"
   ]
  },
  {
   "cell_type": "code",
   "execution_count": 8,
   "id": "f9945c6c",
   "metadata": {},
   "outputs": [],
   "source": [
    "pg.init()\n",
    "sc = pg.display.set_mode([cols * TILE, rows * TILE])\n",
    "clock = pg.time.Clock()"
   ]
  },
  {
   "cell_type": "markdown",
   "id": "1599f976",
   "metadata": {},
   "source": [
    "- Grille"
   ]
  },
  {
   "cell_type": "code",
   "execution_count": 9,
   "id": "97dbc961",
   "metadata": {},
   "outputs": [],
   "source": [
    "grid = [[1 if random() < 0.2 else 0 for col in range(cols)] for row in range(rows)]"
   ]
  },
  {
   "cell_type": "markdown",
   "id": "716cc46a",
   "metadata": {},
   "source": [
    "- Dict de liste des adjacents"
   ]
  },
  {
   "cell_type": "code",
   "execution_count": 10,
   "id": "971332c4",
   "metadata": {},
   "outputs": [],
   "source": [
    "graph = {}\n",
    "for y, row in enumerate(grid):\n",
    "    for x, col in enumerate(row):\n",
    "        if not col:\n",
    "            graph[(x, y)] = graph.get((x, y), []) + get_next_nodes(x, y)"
   ]
  },
  {
   "cell_type": "markdown",
   "id": "becb7293",
   "metadata": {},
   "source": [
    "- Paramètres du BFS + Remplissage et dessin du grille + Obtention du pattern du clique du souris "
   ]
  },
  {
   "cell_type": "code",
   "execution_count": 11,
   "id": "5785cc38",
   "metadata": {},
   "outputs": [
    {
     "ename": "KeyboardInterrupt",
     "evalue": "",
     "output_type": "error",
     "traceback": [
      "\u001b[1;31m---------------------------------------------------------------------------\u001b[0m",
      "\u001b[1;31mKeyboardInterrupt\u001b[0m                         Traceback (most recent call last)",
      "Input \u001b[1;32mIn [11]\u001b[0m, in \u001b[0;36m<cell line: 8>\u001b[1;34m()\u001b[0m\n\u001b[0;32m     29\u001b[0m [exit() \u001b[38;5;28;01mfor\u001b[39;00m event \u001b[38;5;129;01min\u001b[39;00m pg\u001b[38;5;241m.\u001b[39mevent\u001b[38;5;241m.\u001b[39mget() \u001b[38;5;28;01mif\u001b[39;00m event\u001b[38;5;241m.\u001b[39mtype \u001b[38;5;241m==\u001b[39m pg\u001b[38;5;241m.\u001b[39mQUIT]\n\u001b[0;32m     30\u001b[0m pg\u001b[38;5;241m.\u001b[39mdisplay\u001b[38;5;241m.\u001b[39mflip()\n\u001b[1;32m---> 31\u001b[0m \u001b[43mclock\u001b[49m\u001b[38;5;241;43m.\u001b[39;49m\u001b[43mtick\u001b[49m\u001b[43m(\u001b[49m\u001b[38;5;241;43m30\u001b[39;49m\u001b[43m)\u001b[49m\n",
      "\u001b[1;31mKeyboardInterrupt\u001b[0m: "
     ]
    }
   ],
   "source": [
    "start = (0, 0)\n",
    "goal = start\n",
    "queue = deque([start])\n",
    "visited = {start: None}\n",
    "\n",
    "while True:\n",
    "    # remplir l'image\n",
    "    sc.fill(pg.Color('black'))\n",
    "    # draw grid\n",
    "    [[pg.draw.rect(sc, pg.Color('darkorange'), get_rect(x, y), border_radius=TILE // 5)\n",
    "      for x, col in enumerate(row) if col] for y, row in enumerate(grid)]\n",
    "    [pg.draw.rect(sc, pg.Color('forestgreen'), get_rect(x, y)) for x, y in visited]\n",
    "    [pg.draw.rect(sc, pg.Color('darkslategray'), get_rect(x, y)) for x, y in queue]\n",
    "\n",
    "    # bfs, obtenir le pattern du clique du souris\n",
    "    mouse_pos = get_click_mouse_pos()\n",
    "    if mouse_pos and not grid[mouse_pos[1]][mouse_pos[0]]:\n",
    "        queue, visited = bfs(start, mouse_pos, graph)\n",
    "        goal = mouse_pos\n",
    "\n",
    "    # dessiner le pattern\n",
    "    path_head, path_segment = goal, goal\n",
    "    while path_segment and path_segment in visited:\n",
    "        pg.draw.rect(sc, pg.Color('white'), get_rect(*path_segment), TILE, border_radius=TILE // 3)\n",
    "        path_segment = visited[path_segment]\n",
    "    pg.draw.rect(sc, pg.Color('blue'), get_rect(*start), border_radius=TILE // 3)\n",
    "    pg.draw.rect(sc, pg.Color('magenta'), get_rect(*path_head), border_radius=TILE // 3)\n",
    "\n",
    "    [exit() for event in pg.event.get() if event.type == pg.QUIT]\n",
    "    pg.display.flip()\n",
    "    clock.tick(30)"
   ]
  }
 ],
 "metadata": {
  "kernelspec": {
   "display_name": "Python 3 (ipykernel)",
   "language": "python",
   "name": "python3"
  },
  "language_info": {
   "codemirror_mode": {
    "name": "ipython",
    "version": 3
   },
   "file_extension": ".py",
   "mimetype": "text/x-python",
   "name": "python",
   "nbconvert_exporter": "python",
   "pygments_lexer": "ipython3",
   "version": "3.9.12"
  }
 },
 "nbformat": 4,
 "nbformat_minor": 5
}
